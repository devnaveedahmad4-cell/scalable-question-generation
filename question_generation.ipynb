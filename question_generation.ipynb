{
 "cells": [
  {
   "cell_type": "code",
   "execution_count": 3,
   "id": "91eb01f4-4795-4739-9163-b6df9ade9e1c",
   "metadata": {},
   "outputs": [
    {
     "name": "stdout",
     "output_type": "stream",
     "text": [
      "Loaded PDF: notes.pdf (265 pages)\n",
      "Loaded TXT: transcript_1.txt (3542 chars)\n",
      "Loaded TXT: transcript_2.txt (10547 chars)\n",
      "Loaded TXT: transcript_3.txt (5501 chars)\n",
      "Loaded TXT: transcript_4.txt (4926 chars)\n",
      "Loaded TXT: transcript_5.txt (36001 chars)\n",
      "Total docs loaded: 6\n"
     ]
    }
   ],
   "source": [
    "from pathlib import Path\n",
    "from src.preprocessing import load_docs\n",
    "\n",
    "data_dir = Path(\"data\")\n",
    "documents = load_docs(data_dir, stream_pdf=True)\n",
    "\n",
    "print(f\"Total docs loaded: {len(documents)}\")"
   ]
  }
 ],
 "metadata": {
  "kernelspec": {
   "display_name": "Python 3 (ipykernel)",
   "language": "python",
   "name": "python3"
  },
  "language_info": {
   "codemirror_mode": {
    "name": "ipython",
    "version": 3
   },
   "file_extension": ".py",
   "mimetype": "text/x-python",
   "name": "python",
   "nbconvert_exporter": "python",
   "pygments_lexer": "ipython3",
   "version": "3.9.6"
  }
 },
 "nbformat": 4,
 "nbformat_minor": 5
}
